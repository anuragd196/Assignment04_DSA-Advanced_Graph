{
 "cells": [
  {
   "cell_type": "markdown",
   "id": "36fb5b75",
   "metadata": {},
   "source": [
    "### Breadth First Traversal for a Graph "
   ]
  },
  {
   "cell_type": "code",
   "execution_count": 2,
   "id": "ef3d63fb",
   "metadata": {},
   "outputs": [
    {
     "name": "stdout",
     "output_type": "stream",
     "text": [
      "Following is Breadth First Traversal (starting from vertex 2)\n",
      "2 0 3 1 "
     ]
    }
   ],
   "source": [
    "from collections import defaultdict\n",
    " \n",
    " \n",
    "class Graph:\n",
    " \n",
    "    \n",
    "    def __init__(self):\n",
    " \n",
    "        \n",
    "        self.graph = defaultdict(list)\n",
    " \n",
    "   \n",
    "    def addEdge(self,u,v):\n",
    "        self.graph[u].append(v)\n",
    " \n",
    "    \n",
    "    def BFS(self, s):\n",
    " \n",
    "        \n",
    "        visited = [False] * (max(self.graph) + 1)\n",
    " \n",
    "         \n",
    "        queue = []\n",
    " \n",
    "       \n",
    "        queue.append(s)\n",
    "        visited[s] = True\n",
    " \n",
    "        while queue:\n",
    " \n",
    "        \n",
    "            s = queue.pop(0)\n",
    "            print (s, end = \" \")\n",
    " \n",
    "            \n",
    "            for i in self.graph[s]:\n",
    "                if visited[i] == False:\n",
    "                    queue.append(i)\n",
    "                    visited[i] = True\n",
    " \n",
    " \n",
    "g = Graph()\n",
    "g.addEdge(0, 1)\n",
    "g.addEdge(0, 2)\n",
    "g.addEdge(1, 2)\n",
    "g.addEdge(2, 0)\n",
    "g.addEdge(2, 3)\n",
    "g.addEdge(3, 3)\n",
    " \n",
    "print (\"Following is Breadth First Traversal\"\n",
    "                  \" (starting from vertex 2)\")\n",
    "g.BFS(2) "
   ]
  },
  {
   "cell_type": "markdown",
   "id": "9bd1edbd",
   "metadata": {},
   "source": [
    "### Depth First Traversal for a Graph"
   ]
  },
  {
   "cell_type": "code",
   "execution_count": 3,
   "id": "69fcac50",
   "metadata": {},
   "outputs": [
    {
     "name": "stdout",
     "output_type": "stream",
     "text": [
      "Following is DFS from (starting from vertex 2)\n",
      "2 0 1 3 "
     ]
    }
   ],
   "source": [
    "from collections import defaultdict\n",
    " \n",
    " \n",
    " \n",
    " \n",
    "class Graph:\n",
    " \n",
    " \n",
    "    def __init__(self):\n",
    " \n",
    "         \n",
    "        self.graph = defaultdict(list)\n",
    " \n",
    "    \n",
    "    def addEdge(self, u, v):\n",
    "        self.graph[u].append(v)\n",
    " \n",
    "     \n",
    "    def DFSUtil(self, v, visited):\n",
    " \n",
    "        \n",
    "        visited.add(v)\n",
    "        print(v, end=' ')\n",
    " \n",
    "       \n",
    "        for neighbour in self.graph[v]:\n",
    "            if neighbour not in visited:\n",
    "                self.DFSUtil(neighbour, visited)\n",
    "  \n",
    "    def DFS(self, v):\n",
    "  \n",
    "        visited = set()\n",
    "  \n",
    "        self.DFSUtil(v, visited)\n",
    " \n",
    "  \n",
    " \n",
    " \n",
    " \n",
    "g = Graph()\n",
    "g.addEdge(0, 1)\n",
    "g.addEdge(0, 2)\n",
    "g.addEdge(1, 2)\n",
    "g.addEdge(2, 0)\n",
    "g.addEdge(2, 3)\n",
    "g.addEdge(3, 3)\n",
    " \n",
    "print(\"Following is DFS from (starting from vertex 2)\")\n",
    "g.DFS(2)"
   ]
  },
  {
   "cell_type": "markdown",
   "id": "933bc67b",
   "metadata": {},
   "source": [
    "### Count the number of nodes at given level in a tree using BFS"
   ]
  },
  {
   "cell_type": "code",
   "execution_count": 6,
   "id": "2d388434",
   "metadata": {},
   "outputs": [
    {
     "name": "stdout",
     "output_type": "stream",
     "text": [
      "3\n"
     ]
    }
   ],
   "source": [
    "from collections import deque\n",
    "  \n",
    "adj = [[] for i in range(1001)]\n",
    "  \n",
    "def addEdge(v, w):\n",
    "    \n",
    "    adj[v].append(w)\n",
    "  \n",
    "   \n",
    "    adj[w].append(v)\n",
    "  \n",
    "def BFS(s, l):\n",
    "     \n",
    "    V = 100\n",
    "      \n",
    "    visited = [False] * V\n",
    "    level = [0] * V\n",
    "  \n",
    "    for i in range(V):\n",
    "        visited[i] = False\n",
    "        level[i] = 0\n",
    "  \n",
    "    queue = deque()\n",
    "  \n",
    "    \n",
    "    visited[s] = True\n",
    "    queue.append(s)\n",
    "    level[s] = 0\n",
    "  \n",
    "    while (len(queue) > 0):\n",
    "        \n",
    "        s = queue.popleft()\n",
    "       \n",
    "        for i in adj[s]:\n",
    "            if (not visited[i]):\n",
    "  \n",
    "                \n",
    "                level[i] = level[s] + 1\n",
    "                visited[i] = True\n",
    "                queue.append(i)\n",
    "  \n",
    "    count = 0\n",
    "    for i in range(V):\n",
    "        if (level[i] == l):\n",
    "            count += 1\n",
    "             \n",
    "    return count\n",
    "  \n",
    " \n",
    "if __name__ == '__main__':\n",
    "     \n",
    "    \n",
    "    addEdge(0, 1)\n",
    "    addEdge(0, 2)\n",
    "    addEdge(1, 3)\n",
    "    addEdge(2, 4)\n",
    "    addEdge(2, 5)\n",
    "  \n",
    "    level = 2\n",
    "  \n",
    "    print(BFS(0, level))\n",
    "     "
   ]
  },
  {
   "cell_type": "markdown",
   "id": "dc52a07f",
   "metadata": {},
   "source": [
    "### Count number of trees in a forest"
   ]
  },
  {
   "cell_type": "code",
   "execution_count": 7,
   "id": "0cda4d1b",
   "metadata": {},
   "outputs": [
    {
     "name": "stdout",
     "output_type": "stream",
     "text": [
      "2\n"
     ]
    }
   ],
   "source": [
    "def addEdge(adj, u, v):\n",
    "    adj[u].append(v)\n",
    "    adj[v].append(u)\n",
    " \n",
    " \n",
    "def DFSUtil(u, adj, visited):\n",
    "    visited[u] = True\n",
    "    for i in range(len(adj[u])):\n",
    "        if (visited[adj[u][i]] == False):\n",
    "            DFSUtil(adj[u][i], adj, visited)\n",
    "  \n",
    "def countTrees(adj, V):\n",
    "    visited = [False] * V\n",
    "    res = 0\n",
    "    for u in range(V):\n",
    "        if (visited[u] == False):\n",
    "            DFSUtil(u, adj, visited)\n",
    "            res += 1\n",
    "    return res\n",
    " \n",
    " \n",
    "if __name__ == '__main__':\n",
    " \n",
    "    V = 5\n",
    "    adj = [[] for i in range(V)]\n",
    "    addEdge(adj, 0, 1)\n",
    "    addEdge(adj, 0, 2)\n",
    "    addEdge(adj, 3, 4)\n",
    "    print(countTrees(adj, V))"
   ]
  },
  {
   "cell_type": "markdown",
   "id": "dab4f35c",
   "metadata": {},
   "source": [
    " ### detect cycle in a directed graph\n",
    "\n",
    " "
   ]
  },
  {
   "cell_type": "code",
   "execution_count": 9,
   "id": "9d14777b",
   "metadata": {},
   "outputs": [
    {
     "name": "stdout",
     "output_type": "stream",
     "text": [
      "Graph has a cycle\n"
     ]
    }
   ],
   "source": [
    "from collections import defaultdict\n",
    " \n",
    "class Graph():\n",
    "    def __init__(self,vertices):\n",
    "        self.graph = defaultdict(list)\n",
    "        self.V = vertices\n",
    " \n",
    "    def addEdge(self,u,v):\n",
    "        self.graph[u].append(v)\n",
    " \n",
    "    def isCyclicUtil(self, v, visited, recStack):\n",
    " \n",
    "        \n",
    "        visited[v] = True\n",
    "        recStack[v] = True\n",
    "  \n",
    "        for neighbour in self.graph[v]:\n",
    "            if visited[neighbour] == False:\n",
    "                if self.isCyclicUtil(neighbour, visited, recStack) == True:\n",
    "                    return True\n",
    "            elif recStack[neighbour] == True:\n",
    "                return True\n",
    " \n",
    "        \n",
    "        recStack[v] = False\n",
    "        return False\n",
    " \n",
    "   \n",
    "    def isCyclic(self):\n",
    "        visited = [False] * (self.V + 1)\n",
    "        recStack = [False] * (self.V + 1)\n",
    "        for node in range(self.V):\n",
    "            if visited[node] == False:\n",
    "                if self.isCyclicUtil(node,visited,recStack) == True:\n",
    "                    return True\n",
    "        return False\n",
    " \n",
    "g = Graph(4)\n",
    "g.addEdge(0, 1)\n",
    "g.addEdge(0, 2)\n",
    "g.addEdge(1, 2)\n",
    "g.addEdge(2, 0)\n",
    "g.addEdge(2, 3)\n",
    "g.addEdge(3, 3)\n",
    "if g.isCyclic() == 1:\n",
    "    print (\"Graph has a cycle\")\n",
    "else:\n",
    "    print (\"Graph has no cycle\")\n",
    " "
   ]
  },
  {
   "cell_type": "code",
   "execution_count": null,
   "id": "41c5f23c",
   "metadata": {},
   "outputs": [],
   "source": []
  }
 ],
 "metadata": {
  "kernelspec": {
   "display_name": "Python 3 (ipykernel)",
   "language": "python",
   "name": "python3"
  },
  "language_info": {
   "codemirror_mode": {
    "name": "ipython",
    "version": 3
   },
   "file_extension": ".py",
   "mimetype": "text/x-python",
   "name": "python",
   "nbconvert_exporter": "python",
   "pygments_lexer": "ipython3",
   "version": "3.9.7"
  }
 },
 "nbformat": 4,
 "nbformat_minor": 5
}
